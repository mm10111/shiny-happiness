{
  "nbformat": 4,
  "nbformat_minor": 0,
  "metadata": {
    "colab": {
      "name": "Time_series_anomaly_detection_with_auto_encoder_tutorial.ipynb",
      "provenance": []
    },
    "kernelspec": {
      "name": "python3",
      "display_name": "Python 3"
    },
    "language_info": {
      "name": "python"
    }
  },
  "cells": [
    {
      "cell_type": "markdown",
      "source": [
        "Link to tutorial: https://keras.io/examples/timeseries/timeseries_anomaly_detection/"
      ],
      "metadata": {
        "id": "8N58TBE36Q9F"
      }
    },
    {
      "cell_type": "code",
      "execution_count": 1,
      "metadata": {
        "id": "wduT-Osh6FJe"
      },
      "outputs": [],
      "source": [
        "# importing libraries\n",
        "import numpy as np\n",
        "import pandas as pd\n",
        "from tensorflow import keras\n",
        "from tensorflow.keras import layers\n",
        "from matplotlib import pyplot as plt"
      ]
    },
    {
      "cell_type": "code",
      "source": [
        "# importing the dataset\n",
        "# link to dataset: https://github.com/numenta/NAB\n",
        "# dataset license: https://github.com/numenta/NAB/blob/master/LICENSE.txt\n",
        "\n",
        "dataset_url = \"https://raw.githubusercontent.com/numenta/NAB/master/data/\"\n",
        "\n",
        "# for this tutorial two datasets be utilized\n",
        "# training dataset: art_daily_small_noise.csv \n",
        "# test dataset: art_daily_jumpsup.csv\n",
        "\n",
        "# link to training data\n",
        "small_noise_daily_data = dataset_url + \"artificialNoAnomaly/art_daily_small_noise.csv\"\n",
        "# link to test data\n",
        "daily_jumpsup_data = dataset_url + \"artificialWithAnomaly/art_daily_jumpsup.csv\"\n",
        "\n",
        "# reading in the datasets into dataframes\n",
        "df_small_noise = pd.read_csv(small_noise_daily_data, parse_dates=True, index_col=\"timestamp\")\n",
        "df_jumpsup = pd.read_csv(daily_jumpsup_data, parse_dates=True, index_col=\"timestamp\")"
      ],
      "metadata": {
        "id": "ltAmrKJd6hYu"
      },
      "execution_count": 2,
      "outputs": []
    },
    {
      "cell_type": "code",
      "source": [
        "# reading the training dataset\n",
        "df_small_noise"
      ],
      "metadata": {
        "colab": {
          "base_uri": "https://localhost:8080/",
          "height": 455
        },
        "id": "cYrbA4yt-KDA",
        "outputId": "134f251e-4413-4d6c-eeb3-4ddd4945eae0"
      },
      "execution_count": 3,
      "outputs": [
        {
          "output_type": "execute_result",
          "data": {
            "text/plain": [
              "                         value\n",
              "timestamp                     \n",
              "2014-04-01 00:00:00  18.324919\n",
              "2014-04-01 00:05:00  21.970327\n",
              "2014-04-01 00:10:00  18.624806\n",
              "2014-04-01 00:15:00  21.953684\n",
              "2014-04-01 00:20:00  21.909120\n",
              "...                        ...\n",
              "2014-04-14 23:35:00  20.211195\n",
              "2014-04-14 23:40:00  20.531041\n",
              "2014-04-14 23:45:00  19.032127\n",
              "2014-04-14 23:50:00  21.798801\n",
              "2014-04-14 23:55:00  18.682620\n",
              "\n",
              "[4032 rows x 1 columns]"
            ],
            "text/html": [
              "\n",
              "  <div id=\"df-78ef76dc-8c20-4605-ba6d-05b69c198b2a\">\n",
              "    <div class=\"colab-df-container\">\n",
              "      <div>\n",
              "<style scoped>\n",
              "    .dataframe tbody tr th:only-of-type {\n",
              "        vertical-align: middle;\n",
              "    }\n",
              "\n",
              "    .dataframe tbody tr th {\n",
              "        vertical-align: top;\n",
              "    }\n",
              "\n",
              "    .dataframe thead th {\n",
              "        text-align: right;\n",
              "    }\n",
              "</style>\n",
              "<table border=\"1\" class=\"dataframe\">\n",
              "  <thead>\n",
              "    <tr style=\"text-align: right;\">\n",
              "      <th></th>\n",
              "      <th>value</th>\n",
              "    </tr>\n",
              "    <tr>\n",
              "      <th>timestamp</th>\n",
              "      <th></th>\n",
              "    </tr>\n",
              "  </thead>\n",
              "  <tbody>\n",
              "    <tr>\n",
              "      <th>2014-04-01 00:00:00</th>\n",
              "      <td>18.324919</td>\n",
              "    </tr>\n",
              "    <tr>\n",
              "      <th>2014-04-01 00:05:00</th>\n",
              "      <td>21.970327</td>\n",
              "    </tr>\n",
              "    <tr>\n",
              "      <th>2014-04-01 00:10:00</th>\n",
              "      <td>18.624806</td>\n",
              "    </tr>\n",
              "    <tr>\n",
              "      <th>2014-04-01 00:15:00</th>\n",
              "      <td>21.953684</td>\n",
              "    </tr>\n",
              "    <tr>\n",
              "      <th>2014-04-01 00:20:00</th>\n",
              "      <td>21.909120</td>\n",
              "    </tr>\n",
              "    <tr>\n",
              "      <th>...</th>\n",
              "      <td>...</td>\n",
              "    </tr>\n",
              "    <tr>\n",
              "      <th>2014-04-14 23:35:00</th>\n",
              "      <td>20.211195</td>\n",
              "    </tr>\n",
              "    <tr>\n",
              "      <th>2014-04-14 23:40:00</th>\n",
              "      <td>20.531041</td>\n",
              "    </tr>\n",
              "    <tr>\n",
              "      <th>2014-04-14 23:45:00</th>\n",
              "      <td>19.032127</td>\n",
              "    </tr>\n",
              "    <tr>\n",
              "      <th>2014-04-14 23:50:00</th>\n",
              "      <td>21.798801</td>\n",
              "    </tr>\n",
              "    <tr>\n",
              "      <th>2014-04-14 23:55:00</th>\n",
              "      <td>18.682620</td>\n",
              "    </tr>\n",
              "  </tbody>\n",
              "</table>\n",
              "<p>4032 rows × 1 columns</p>\n",
              "</div>\n",
              "      <button class=\"colab-df-convert\" onclick=\"convertToInteractive('df-78ef76dc-8c20-4605-ba6d-05b69c198b2a')\"\n",
              "              title=\"Convert this dataframe to an interactive table.\"\n",
              "              style=\"display:none;\">\n",
              "        \n",
              "  <svg xmlns=\"http://www.w3.org/2000/svg\" height=\"24px\"viewBox=\"0 0 24 24\"\n",
              "       width=\"24px\">\n",
              "    <path d=\"M0 0h24v24H0V0z\" fill=\"none\"/>\n",
              "    <path d=\"M18.56 5.44l.94 2.06.94-2.06 2.06-.94-2.06-.94-.94-2.06-.94 2.06-2.06.94zm-11 1L8.5 8.5l.94-2.06 2.06-.94-2.06-.94L8.5 2.5l-.94 2.06-2.06.94zm10 10l.94 2.06.94-2.06 2.06-.94-2.06-.94-.94-2.06-.94 2.06-2.06.94z\"/><path d=\"M17.41 7.96l-1.37-1.37c-.4-.4-.92-.59-1.43-.59-.52 0-1.04.2-1.43.59L10.3 9.45l-7.72 7.72c-.78.78-.78 2.05 0 2.83L4 21.41c.39.39.9.59 1.41.59.51 0 1.02-.2 1.41-.59l7.78-7.78 2.81-2.81c.8-.78.8-2.07 0-2.86zM5.41 20L4 18.59l7.72-7.72 1.47 1.35L5.41 20z\"/>\n",
              "  </svg>\n",
              "      </button>\n",
              "      \n",
              "  <style>\n",
              "    .colab-df-container {\n",
              "      display:flex;\n",
              "      flex-wrap:wrap;\n",
              "      gap: 12px;\n",
              "    }\n",
              "\n",
              "    .colab-df-convert {\n",
              "      background-color: #E8F0FE;\n",
              "      border: none;\n",
              "      border-radius: 50%;\n",
              "      cursor: pointer;\n",
              "      display: none;\n",
              "      fill: #1967D2;\n",
              "      height: 32px;\n",
              "      padding: 0 0 0 0;\n",
              "      width: 32px;\n",
              "    }\n",
              "\n",
              "    .colab-df-convert:hover {\n",
              "      background-color: #E2EBFA;\n",
              "      box-shadow: 0px 1px 2px rgba(60, 64, 67, 0.3), 0px 1px 3px 1px rgba(60, 64, 67, 0.15);\n",
              "      fill: #174EA6;\n",
              "    }\n",
              "\n",
              "    [theme=dark] .colab-df-convert {\n",
              "      background-color: #3B4455;\n",
              "      fill: #D2E3FC;\n",
              "    }\n",
              "\n",
              "    [theme=dark] .colab-df-convert:hover {\n",
              "      background-color: #434B5C;\n",
              "      box-shadow: 0px 1px 3px 1px rgba(0, 0, 0, 0.15);\n",
              "      filter: drop-shadow(0px 1px 2px rgba(0, 0, 0, 0.3));\n",
              "      fill: #FFFFFF;\n",
              "    }\n",
              "  </style>\n",
              "\n",
              "      <script>\n",
              "        const buttonEl =\n",
              "          document.querySelector('#df-78ef76dc-8c20-4605-ba6d-05b69c198b2a button.colab-df-convert');\n",
              "        buttonEl.style.display =\n",
              "          google.colab.kernel.accessAllowed ? 'block' : 'none';\n",
              "\n",
              "        async function convertToInteractive(key) {\n",
              "          const element = document.querySelector('#df-78ef76dc-8c20-4605-ba6d-05b69c198b2a');\n",
              "          const dataTable =\n",
              "            await google.colab.kernel.invokeFunction('convertToInteractive',\n",
              "                                                     [key], {});\n",
              "          if (!dataTable) return;\n",
              "\n",
              "          const docLinkHtml = 'Like what you see? Visit the ' +\n",
              "            '<a target=\"_blank\" href=https://colab.research.google.com/notebooks/data_table.ipynb>data table notebook</a>'\n",
              "            + ' to learn more about interactive tables.';\n",
              "          element.innerHTML = '';\n",
              "          dataTable['output_type'] = 'display_data';\n",
              "          await google.colab.output.renderOutput(dataTable, element);\n",
              "          const docLink = document.createElement('div');\n",
              "          docLink.innerHTML = docLinkHtml;\n",
              "          element.appendChild(docLink);\n",
              "        }\n",
              "      </script>\n",
              "    </div>\n",
              "  </div>\n",
              "  "
            ]
          },
          "metadata": {},
          "execution_count": 3
        }
      ]
    },
    {
      "cell_type": "code",
      "source": [
        "# reading the test dataset\n",
        "df_jumpsup"
      ],
      "metadata": {
        "colab": {
          "base_uri": "https://localhost:8080/",
          "height": 455
        },
        "id": "4X8ZBEE5-QoF",
        "outputId": "a7782d83-eb25-48b9-ff95-3694bc3be117"
      },
      "execution_count": 4,
      "outputs": [
        {
          "output_type": "execute_result",
          "data": {
            "text/plain": [
              "                         value\n",
              "timestamp                     \n",
              "2014-04-01 00:00:00  19.761252\n",
              "2014-04-01 00:05:00  20.500833\n",
              "2014-04-01 00:10:00  19.961641\n",
              "2014-04-01 00:15:00  21.490266\n",
              "2014-04-01 00:20:00  20.187739\n",
              "...                        ...\n",
              "2014-04-14 23:35:00  18.074649\n",
              "2014-04-14 23:40:00  21.002014\n",
              "2014-04-14 23:45:00  20.566713\n",
              "2014-04-14 23:50:00  18.254193\n",
              "2014-04-14 23:55:00  21.863147\n",
              "\n",
              "[4032 rows x 1 columns]"
            ],
            "text/html": [
              "\n",
              "  <div id=\"df-97ff37b7-4ad1-49a6-a096-adbbaf8ba9de\">\n",
              "    <div class=\"colab-df-container\">\n",
              "      <div>\n",
              "<style scoped>\n",
              "    .dataframe tbody tr th:only-of-type {\n",
              "        vertical-align: middle;\n",
              "    }\n",
              "\n",
              "    .dataframe tbody tr th {\n",
              "        vertical-align: top;\n",
              "    }\n",
              "\n",
              "    .dataframe thead th {\n",
              "        text-align: right;\n",
              "    }\n",
              "</style>\n",
              "<table border=\"1\" class=\"dataframe\">\n",
              "  <thead>\n",
              "    <tr style=\"text-align: right;\">\n",
              "      <th></th>\n",
              "      <th>value</th>\n",
              "    </tr>\n",
              "    <tr>\n",
              "      <th>timestamp</th>\n",
              "      <th></th>\n",
              "    </tr>\n",
              "  </thead>\n",
              "  <tbody>\n",
              "    <tr>\n",
              "      <th>2014-04-01 00:00:00</th>\n",
              "      <td>19.761252</td>\n",
              "    </tr>\n",
              "    <tr>\n",
              "      <th>2014-04-01 00:05:00</th>\n",
              "      <td>20.500833</td>\n",
              "    </tr>\n",
              "    <tr>\n",
              "      <th>2014-04-01 00:10:00</th>\n",
              "      <td>19.961641</td>\n",
              "    </tr>\n",
              "    <tr>\n",
              "      <th>2014-04-01 00:15:00</th>\n",
              "      <td>21.490266</td>\n",
              "    </tr>\n",
              "    <tr>\n",
              "      <th>2014-04-01 00:20:00</th>\n",
              "      <td>20.187739</td>\n",
              "    </tr>\n",
              "    <tr>\n",
              "      <th>...</th>\n",
              "      <td>...</td>\n",
              "    </tr>\n",
              "    <tr>\n",
              "      <th>2014-04-14 23:35:00</th>\n",
              "      <td>18.074649</td>\n",
              "    </tr>\n",
              "    <tr>\n",
              "      <th>2014-04-14 23:40:00</th>\n",
              "      <td>21.002014</td>\n",
              "    </tr>\n",
              "    <tr>\n",
              "      <th>2014-04-14 23:45:00</th>\n",
              "      <td>20.566713</td>\n",
              "    </tr>\n",
              "    <tr>\n",
              "      <th>2014-04-14 23:50:00</th>\n",
              "      <td>18.254193</td>\n",
              "    </tr>\n",
              "    <tr>\n",
              "      <th>2014-04-14 23:55:00</th>\n",
              "      <td>21.863147</td>\n",
              "    </tr>\n",
              "  </tbody>\n",
              "</table>\n",
              "<p>4032 rows × 1 columns</p>\n",
              "</div>\n",
              "      <button class=\"colab-df-convert\" onclick=\"convertToInteractive('df-97ff37b7-4ad1-49a6-a096-adbbaf8ba9de')\"\n",
              "              title=\"Convert this dataframe to an interactive table.\"\n",
              "              style=\"display:none;\">\n",
              "        \n",
              "  <svg xmlns=\"http://www.w3.org/2000/svg\" height=\"24px\"viewBox=\"0 0 24 24\"\n",
              "       width=\"24px\">\n",
              "    <path d=\"M0 0h24v24H0V0z\" fill=\"none\"/>\n",
              "    <path d=\"M18.56 5.44l.94 2.06.94-2.06 2.06-.94-2.06-.94-.94-2.06-.94 2.06-2.06.94zm-11 1L8.5 8.5l.94-2.06 2.06-.94-2.06-.94L8.5 2.5l-.94 2.06-2.06.94zm10 10l.94 2.06.94-2.06 2.06-.94-2.06-.94-.94-2.06-.94 2.06-2.06.94z\"/><path d=\"M17.41 7.96l-1.37-1.37c-.4-.4-.92-.59-1.43-.59-.52 0-1.04.2-1.43.59L10.3 9.45l-7.72 7.72c-.78.78-.78 2.05 0 2.83L4 21.41c.39.39.9.59 1.41.59.51 0 1.02-.2 1.41-.59l7.78-7.78 2.81-2.81c.8-.78.8-2.07 0-2.86zM5.41 20L4 18.59l7.72-7.72 1.47 1.35L5.41 20z\"/>\n",
              "  </svg>\n",
              "      </button>\n",
              "      \n",
              "  <style>\n",
              "    .colab-df-container {\n",
              "      display:flex;\n",
              "      flex-wrap:wrap;\n",
              "      gap: 12px;\n",
              "    }\n",
              "\n",
              "    .colab-df-convert {\n",
              "      background-color: #E8F0FE;\n",
              "      border: none;\n",
              "      border-radius: 50%;\n",
              "      cursor: pointer;\n",
              "      display: none;\n",
              "      fill: #1967D2;\n",
              "      height: 32px;\n",
              "      padding: 0 0 0 0;\n",
              "      width: 32px;\n",
              "    }\n",
              "\n",
              "    .colab-df-convert:hover {\n",
              "      background-color: #E2EBFA;\n",
              "      box-shadow: 0px 1px 2px rgba(60, 64, 67, 0.3), 0px 1px 3px 1px rgba(60, 64, 67, 0.15);\n",
              "      fill: #174EA6;\n",
              "    }\n",
              "\n",
              "    [theme=dark] .colab-df-convert {\n",
              "      background-color: #3B4455;\n",
              "      fill: #D2E3FC;\n",
              "    }\n",
              "\n",
              "    [theme=dark] .colab-df-convert:hover {\n",
              "      background-color: #434B5C;\n",
              "      box-shadow: 0px 1px 3px 1px rgba(0, 0, 0, 0.15);\n",
              "      filter: drop-shadow(0px 1px 2px rgba(0, 0, 0, 0.3));\n",
              "      fill: #FFFFFF;\n",
              "    }\n",
              "  </style>\n",
              "\n",
              "      <script>\n",
              "        const buttonEl =\n",
              "          document.querySelector('#df-97ff37b7-4ad1-49a6-a096-adbbaf8ba9de button.colab-df-convert');\n",
              "        buttonEl.style.display =\n",
              "          google.colab.kernel.accessAllowed ? 'block' : 'none';\n",
              "\n",
              "        async function convertToInteractive(key) {\n",
              "          const element = document.querySelector('#df-97ff37b7-4ad1-49a6-a096-adbbaf8ba9de');\n",
              "          const dataTable =\n",
              "            await google.colab.kernel.invokeFunction('convertToInteractive',\n",
              "                                                     [key], {});\n",
              "          if (!dataTable) return;\n",
              "\n",
              "          const docLinkHtml = 'Like what you see? Visit the ' +\n",
              "            '<a target=\"_blank\" href=https://colab.research.google.com/notebooks/data_table.ipynb>data table notebook</a>'\n",
              "            + ' to learn more about interactive tables.';\n",
              "          element.innerHTML = '';\n",
              "          dataTable['output_type'] = 'display_data';\n",
              "          await google.colab.output.renderOutput(dataTable, element);\n",
              "          const docLink = document.createElement('div');\n",
              "          docLink.innerHTML = docLinkHtml;\n",
              "          element.appendChild(docLink);\n",
              "        }\n",
              "      </script>\n",
              "    </div>\n",
              "  </div>\n",
              "  "
            ]
          },
          "metadata": {},
          "execution_count": 4
        }
      ]
    },
    {
      "cell_type": "code",
      "source": [
        "# visualizing the training dataset\n",
        "df_small_noise.plot()"
      ],
      "metadata": {
        "colab": {
          "base_uri": "https://localhost:8080/",
          "height": 320
        },
        "id": "PFl2f6QC-UPG",
        "outputId": "35753038-5400-4718-d69e-3a57a71f4f42"
      },
      "execution_count": 5,
      "outputs": [
        {
          "output_type": "execute_result",
          "data": {
            "text/plain": [
              "<matplotlib.axes._subplots.AxesSubplot at 0x7ff8ddce4dd0>"
            ]
          },
          "metadata": {},
          "execution_count": 5
        },
        {
          "output_type": "display_data",
          "data": {
            "text/plain": [
              "<Figure size 432x288 with 1 Axes>"
            ],
            "image/png": "[encoded data removed]"
          },
          "metadata": {
            "needs_background": "light"
          }
        }
      ]
    },
    {
      "cell_type": "code",
      "source": [
        "# visualizing the test dataset\n",
        "df_jumpsup.plot()"
      ],
      "metadata": {
        "colab": {
          "base_uri": "https://localhost:8080/",
          "height": 320
        },
        "id": "W7y4QJO__nkI",
        "outputId": "cf62fe8d-22e8-4b48-bacc-27bb44c3af77"
      },
      "execution_count": 7,
      "outputs": [
        {
          "output_type": "execute_result",
          "data": {
            "text/plain": [
              "<matplotlib.axes._subplots.AxesSubplot at 0x7ff8dcc2c350>"
            ]
          },
          "metadata": {},
          "execution_count": 7
        },
        {
          "output_type": "display_data",
          "data": {
            "text/plain": [
              "<Figure size 432x288 with 1 Axes>"
            ],
            "image/png": "[encoded data removed]"
          },
          "metadata": {
            "needs_background": "light"
          }
        }
      ]
    },
    {
      "cell_type": "code",
      "source": [
        "# pre-processing the training dataset for model development\n",
        "# there is a data point for every 5 minute interval over 14 day period.\n",
        "# 24*(60/5) = 288 data points per day (timesteps)\n",
        "# total number of data points: 288 * 14  = 4032 \n",
        "\n",
        "# normalizing the training dataset\n",
        "training_mean = df_small_noise.mean()\n",
        "training_std = df_small_noise.std()\n",
        "normalized_training_data = (df_small_noise - training_mean) / training_std\n",
        "print(\"Number of training data points:\", len(normalized_training_data))"
      ],
      "metadata": {
        "colab": {
          "base_uri": "https://localhost:8080/"
        },
        "id": "LpAxeFVs_wku",
        "outputId": "9eb2664f-4297-4f5c-bcd6-40b27bbd600c"
      },
      "execution_count": 8,
      "outputs": [
        {
          "output_type": "stream",
          "name": "stdout",
          "text": [
            "Number of training data points: 4032\n"
          ]
        }
      ]
    },
    {
      "cell_type": "code",
      "source": [
        "# combining timesteps from the training data to create a sequence \n",
        "\n",
        "Time_steps = 288\n",
        "\n",
        "# function to generate a training sequence for model input\n",
        "def create_sequences(values, time_steps=Time_steps):\n",
        "  output = []\n",
        "  for i in range(len(values) - time_steps + 1):\n",
        "    output.append(values[i : (i + time_steps)])\n",
        "  return np.stack(output)\n",
        "\n",
        "x_train = create_sequences(normalized_training_data.values)\n",
        "print(\"Training input shape:\", x_train.shape)"
      ],
      "metadata": {
        "colab": {
          "base_uri": "https://localhost:8080/"
        },
        "id": "Ha-nr-jpHSSo",
        "outputId": "14bfb538-9df7-4690-c82e-d0e7eea926c4"
      },
      "execution_count": 10,
      "outputs": [
        {
          "output_type": "stream",
          "name": "stdout",
          "text": [
            "Training input shape: (3745, 288, 1)\n"
          ]
        }
      ]
    },
    {
      "cell_type": "code",
      "source": [
        "# building a convolutional reconstruction autoencoder model\n",
        "# model input is of shape (batch size, sequence length, number of features) \n",
        "# model output is the same shape as model input  "
      ],
      "metadata": {
        "id": "4VufzitnJ8p5"
      },
      "execution_count": 11,
      "outputs": []
    },
    {
      "cell_type": "code",
      "source": [
        "model = keras.Sequential(\n",
        "    [\n",
        "      layers.Input(shape=(x_train.shape[1], x_train.shape[2])),\n",
        "      layers.Conv1D(\n",
        "          filters=32, kernel_size=7, padding=\"same\", strides=2, activation=\"relu\"\n",
        "      ),\n",
        "      layers.Dropout(rate=0.2),\n",
        "      layers.Conv1D(\n",
        "         filters=16, kernel_size=7, padding=\"same\", strides=2, activation=\"relu\"\n",
        "      ),\n",
        "      layers.Conv1DTranspose(\n",
        "         filters=16, kernel_size=7, padding=\"same\", strides=2, activation=\"relu\"\n",
        "      ),\n",
        "      layers.Dropout(rate=0.2),\n",
        "      layers.Conv1DTranspose(\n",
        "         filters=32, kernel_size=7, padding=\"same\", strides=2, activation=\"relu\"         \n",
        "      ),\n",
        "      layers.Conv1DTranspose(filters=1, kernel_size=7, padding=\"same\"),\n",
        "    ]\n",
        ")\n",
        "\n",
        "model.compile(optimizer=keras.optimizers.Adam(learning_rate=0.001), loss=\"mse\")\n",
        "model.summary()"
      ],
      "metadata": {
        "colab": {
          "base_uri": "https://localhost:8080/"
        },
        "id": "813S8hc5KTAC",
        "outputId": "15c2f03d-73ed-48f5-c23e-9f0eaf37e06d"
      },
      "execution_count": 13,
      "outputs": [
        {
          "output_type": "stream",
          "name": "stdout",
          "text": [
            "Model: \"sequential\"\n",
            "_________________________________________________________________\n",
            " Layer (type)                Output Shape              Param #   \n",
            "=================================================================\n",
            " conv1d (Conv1D)             (None, 144, 32)           256       \n",
            "                                                                 \n",
            " dropout (Dropout)           (None, 144, 32)           0         \n",
            "                                                                 \n",
            " conv1d_1 (Conv1D)           (None, 72, 16)            3600      \n",
            "                                                                 \n",
            " conv1d_transpose (Conv1DTra  (None, 144, 16)          1808      \n",
            " nspose)                                                         \n",
            "                                                                 \n",
            " dropout_1 (Dropout)         (None, 144, 16)           0         \n",
            "                                                                 \n",
            " conv1d_transpose_1 (Conv1DT  (None, 288, 32)          3616      \n",
            " ranspose)                                                       \n",
            "                                                                 \n",
            " conv1d_transpose_2 (Conv1DT  (None, 288, 1)           225       \n",
            " ranspose)                                                       \n",
            "                                                                 \n",
            "=================================================================\n",
            "Total params: 9,505\n",
            "Trainable params: 9,505\n",
            "Non-trainable params: 0\n",
            "_________________________________________________________________\n"
          ]
        }
      ]
    },
    {
      "cell_type": "code",
      "source": [
        "#model training \n",
        "# using x_train as model input & model target since it is a reconstruction model\n",
        "\n",
        "history = model.fit(\n",
        "    x_train,\n",
        "    x_train,\n",
        "    epochs = 50,\n",
        "    batch_size = 128,\n",
        "    validation_split = 0.1,\n",
        "    callbacks = [\n",
        "                 keras.callbacks.EarlyStopping(monitor = \"val_loss\", patience = 5, mode = \"min\")\n",
        "    ], \n",
        ")"
      ],
      "metadata": {
        "colab": {
          "base_uri": "https://localhost:8080/"
        },
        "id": "sheQylEcLt7M",
        "outputId": "9f0740fd-e908-46e0-d838-f541cbf395dd"
      },
      "execution_count": 14,
      "outputs": [
        {
          "output_type": "stream",
          "name": "stdout",
          "text": [
            "Epoch 1/50\n",
            "27/27 [==============================] - 6s 135ms/step - loss: 0.6872 - val_loss: 0.1851\n",
            "Epoch 2/50\n",
            "27/27 [==============================] - 3s 115ms/step - loss: 0.0982 - val_loss: 0.0467\n",
            "Epoch 3/50\n",
            "27/27 [==============================] - 3s 115ms/step - loss: 0.0579 - val_loss: 0.0366\n",
            "Epoch 4/50\n",
            "27/27 [==============================] - 3s 116ms/step - loss: 0.0492 - val_loss: 0.0302\n",
            "Epoch 5/50\n",
            "27/27 [==============================] - 3s 116ms/step - loss: 0.0425 - val_loss: 0.0278\n",
            "Epoch 6/50\n",
            "27/27 [==============================] - 3s 118ms/step - loss: 0.0368 - val_loss: 0.0261\n",
            "Epoch 7/50\n",
            "27/27 [==============================] - 3s 122ms/step - loss: 0.0327 - val_loss: 0.0257\n",
            "Epoch 8/50\n",
            "27/27 [==============================] - 3s 115ms/step - loss: 0.0299 - val_loss: 0.0261\n",
            "Epoch 9/50\n",
            "27/27 [==============================] - 3s 120ms/step - loss: 0.0275 - val_loss: 0.0234\n",
            "Epoch 10/50\n",
            "27/27 [==============================] - 3s 115ms/step - loss: 0.0257 - val_loss: 0.0228\n",
            "Epoch 11/50\n",
            "27/27 [==============================] - 4s 134ms/step - loss: 0.0240 - val_loss: 0.0233\n",
            "Epoch 12/50\n",
            "27/27 [==============================] - 3s 118ms/step - loss: 0.0226 - val_loss: 0.0226\n",
            "Epoch 13/50\n",
            "27/27 [==============================] - 3s 122ms/step - loss: 0.0213 - val_loss: 0.0260\n",
            "Epoch 14/50\n",
            "27/27 [==============================] - 3s 124ms/step - loss: 0.0202 - val_loss: 0.0250\n",
            "Epoch 15/50\n",
            "27/27 [==============================] - 3s 116ms/step - loss: 0.0193 - val_loss: 0.0266\n",
            "Epoch 16/50\n",
            "27/27 [==============================] - 3s 118ms/step - loss: 0.0184 - val_loss: 0.0279\n",
            "Epoch 17/50\n",
            "27/27 [==============================] - 3s 119ms/step - loss: 0.0178 - val_loss: 0.0300\n"
          ]
        }
      ]
    },
    {
      "cell_type": "code",
      "source": [
        "# Plotting model training data\n",
        "plt.plot(history.history[\"loss\"], label = \"Training Loss\")\n",
        "plt.plot(history.history[\"val_loss\"], label =\"Validation Loss\") \n",
        "plt.legend()"
      ],
      "metadata": {
        "colab": {
          "base_uri": "https://localhost:8080/",
          "height": 282
        },
        "id": "iG2Iadp-MQBV",
        "outputId": "c3d81f53-81b6-4413-df18-37961384f7f3"
      },
      "execution_count": 19,
      "outputs": [
        {
          "output_type": "execute_result",
          "data": {
            "text/plain": [
              "<matplotlib.legend.Legend at 0x7ff8d715f490>"
            ]
          },
          "metadata": {},
          "execution_count": 19
        },
        {
          "output_type": "display_data",
          "data": {
            "text/plain": [
              "<Figure size 432x288 with 1 Axes>"
            ],
            "image/png": "[encoded data removed]"
          },
          "metadata": {
            "needs_background": "light"
          }
        }
      ]
    },
    {
      "cell_type": "code",
      "source": [
        "# to detect anomalies, compare the model output with input data\n",
        "# detect anomalies based on the model reconstructing the input data values\n",
        "# find the mean absolute error from training data\n",
        "x_train_prediction = model.predict(x_train)\n",
        "train_max_absolute_error_loss = np.mean(np.abs(x_train_prediction - x_train), axis=1)\n",
        "\n",
        "# plotting the data using a histogram\n",
        "plt.hist(train_max_absolute_error_loss, bins=50)\n",
        "plt.xlabel(\"Training Mean Absolute Error Loss\")\n",
        "plt.ylabel(\"Number of Data Points\")\n",
        "# find the max mean absolute error value\n",
        "# max mean absolute error value is the worst model performance when reconstructing a training data\n",
        "# max mean absolute error value will be the threshold for anomaly detection\n",
        "# if the reconstruction loss for a data point is greater than the threshold value, treat it as an outlier\n",
        "anomaly_detection_threshold = np.max(train_max_absolute_error_loss)\n",
        "print(\"Reconstruction error threshold: \", anomaly_detection_threshold)\n"
      ],
      "metadata": {
        "colab": {
          "base_uri": "https://localhost:8080/",
          "height": 297
        },
        "id": "1TwyMjh1NozT",
        "outputId": "249f2bd0-9c48-4b8a-b465-6c885e322693"
      },
      "execution_count": 20,
      "outputs": [
        {
          "output_type": "stream",
          "name": "stdout",
          "text": [
            "Reconstruction error threshold:  0.13714298145615997\n"
          ]
        },
        {
          "output_type": "display_data",
          "data": {
            "text/plain": [
              "<Figure size 432x288 with 1 Axes>"
            ],
            "image/png": "[encoded data removed]"
          },
          "metadata": {
            "needs_background": "light"
          }
        }
      ]
    },
    {
      "cell_type": "code",
      "source": [
        "# comparing reconstruction for the first day of data points\n",
        "plt.plot(x_train[0], label= \"input\")\n",
        "plt.plot(x_train_prediction[0], label = \"prediction\")\n",
        "plt.legend()"
      ],
      "metadata": {
        "colab": {
          "base_uri": "https://localhost:8080/",
          "height": 282
        },
        "id": "w8khPBnqZ6P0",
        "outputId": "f00ac86c-ddeb-4235-dfe9-0cd392c65dc4"
      },
      "execution_count": 26,
      "outputs": [
        {
          "output_type": "execute_result",
          "data": {
            "text/plain": [
              "<matplotlib.legend.Legend at 0x7ff8d48bc990>"
            ]
          },
          "metadata": {},
          "execution_count": 26
        },
        {
          "output_type": "display_data",
          "data": {
            "text/plain": [
              "<Figure size 432x288 with 1 Axes>"
            ],
            "image/png": "[encoded data removed]"
          },
          "metadata": {
            "needs_background": "light"
          }
        }
      ]
    },
    {
      "cell_type": "code",
      "source": [
        "#pre-processing test dataset to evaluate model performance\n",
        "\n",
        "# normalizing the test dataset\n",
        "test_mean = df_jumpsup.mean()\n",
        "test_std = df_jumpsup.std()\n",
        "normalized_test_data = (df_jumpsup - test_mean) / test_std\n",
        "print(\"Number of test data points:\", len(normalized_test_data))"
      ],
      "metadata": {
        "colab": {
          "base_uri": "https://localhost:8080/"
        },
        "id": "LQeXJVlTayvH",
        "outputId": "9ecf3b49-20d4-4165-df67-3c614844d2f4"
      },
      "execution_count": 27,
      "outputs": [
        {
          "output_type": "stream",
          "name": "stdout",
          "text": [
            "Number of test data points: 4032\n"
          ]
        }
      ]
    },
    {
      "cell_type": "code",
      "source": [
        "# plotting normalized data\n",
        "normalized_test_data.plot()"
      ],
      "metadata": {
        "colab": {
          "base_uri": "https://localhost:8080/",
          "height": 320
        },
        "id": "ci723ieubdRu",
        "outputId": "83e291e5-bf65-4cf3-a502-a3c8ea61662b"
      },
      "execution_count": 28,
      "outputs": [
        {
          "output_type": "execute_result",
          "data": {
            "text/plain": [
              "<matplotlib.axes._subplots.AxesSubplot at 0x7ff8d48e8d90>"
            ]
          },
          "metadata": {},
          "execution_count": 28
        },
        {
          "output_type": "display_data",
          "data": {
            "text/plain": [
              "<Figure size 432x288 with 1 Axes>"
            ],
            "image/png": "[encoded data removed]"
          },
          "metadata": {
            "needs_background": "light"
          }
        }
      ]
    },
    {
      "cell_type": "code",
      "source": [
        "# creating a sequence from test data so it can be input into the model for prediction\n",
        "x_test = create_sequences(normalized_test_data.values)\n",
        "print(\"Test data input shape: \", x_test.shape)"
      ],
      "metadata": {
        "colab": {
          "base_uri": "https://localhost:8080/"
        },
        "id": "SzwsR2i_bqgv",
        "outputId": "f0f841ed-8fad-4d20-eb01-f3d8c1f5ed00"
      },
      "execution_count": 29,
      "outputs": [
        {
          "output_type": "stream",
          "name": "stdout",
          "text": [
            "Test data input shape:  (3745, 288, 1)\n"
          ]
        }
      ]
    },
    {
      "cell_type": "code",
      "source": [
        "# finding the test data mean absolute error loss \n",
        "x_test_prediction = model.predict(x_test)\n",
        "test_mean_absolute_error_loss = np.mean(np.abs(x_test_prediction - x_test), axis=1)\n",
        "test_mean_absolute_error_loss = test_mean_absolute_error_loss.reshape((-1))"
      ],
      "metadata": {
        "id": "I824k_7Yb-8x"
      },
      "execution_count": 30,
      "outputs": []
    },
    {
      "cell_type": "code",
      "source": [
        "# plotting the loss from the test set using a histogram\n",
        "plt.hist(test_mean_absolute_error_loss, bins=50)\n",
        "plt.xlabel(\"test mean absolute error loss\")\n",
        "plt.ylabel(\"Number of test data points\")\n"
      ],
      "metadata": {
        "colab": {
          "base_uri": "https://localhost:8080/",
          "height": 296
        },
        "id": "9Za4IP89clRc",
        "outputId": "0f41cd28-8bff-43e3-fd36-485cdd726e0d"
      },
      "execution_count": 31,
      "outputs": [
        {
          "output_type": "execute_result",
          "data": {
            "text/plain": [
              "Text(0, 0.5, 'Number of test data points')"
            ]
          },
          "metadata": {},
          "execution_count": 31
        },
        {
          "output_type": "display_data",
          "data": {
            "text/plain": [
              "<Figure size 432x288 with 1 Axes>"
            ],
            "image/png": "[encoded data removed]"
          },
          "metadata": {
            "needs_background": "light"
          }
        }
      ]
    },
    {
      "cell_type": "code",
      "source": [
        "# anomaly detection for the test set based on anomaly detection threshold\n",
        "anomalies = test_mean_absolute_error_loss > anomaly_detection_threshold\n",
        "print(\"Number of anomaly samples \", np.sum(anomalies))\n",
        "print(\"Indices of anomalies: \", np.where(anomalies))"
      ],
      "metadata": {
        "colab": {
          "base_uri": "https://localhost:8080/"
        },
        "id": "KS6n0FYmc5An",
        "outputId": "f26f9cd8-20f8-47b2-ae56-2273e8b537b1"
      },
      "execution_count": 33,
      "outputs": [
        {
          "output_type": "stream",
          "name": "stdout",
          "text": [
            "Number of anomaly samples  348\n",
            "Indices of anomalies:  (array([2726, 2727, 2729, 2730, 2731, 2732, 2733, 2734, 2735, 2736, 2737,\n",
            "       2738, 2739, 2740, 2741, 2742, 2743, 2744, 2745, 2746, 2747, 2748,\n",
            "       2749, 2750, 2751, 2752, 2753, 2754, 2755, 2756, 2757, 2758, 2759,\n",
            "       2760, 2761, 2762, 2763, 2764, 2765, 2766, 2767, 2768, 2769, 2770,\n",
            "       2771, 2772, 2773, 2774, 2775, 2776, 2777, 2778, 2779, 2780, 2781,\n",
            "       2782, 2783, 2784, 2785, 2786, 2787, 2788, 2789, 2790, 2791, 2792,\n",
            "       2793, 2794, 2795, 2796, 2797, 2798, 2799, 2800, 2801, 2802, 2803,\n",
            "       2804, 2805, 2806, 2807, 2808, 2809, 2810, 2811, 2812, 2813, 2814,\n",
            "       2815, 2816, 2817, 2818, 2819, 2820, 2821, 2822, 2823, 2824, 2825,\n",
            "       2826, 2827, 2828, 2829, 2830, 2831, 2832, 2833, 2834, 2835, 2836,\n",
            "       2837, 2838, 2839, 2840, 2841, 2842, 2843, 2844, 2845, 2846, 2847,\n",
            "       2848, 2849, 2850, 2851, 2852, 2853, 2854, 2855, 2856, 2857, 2858,\n",
            "       2859, 2860, 2861, 2862, 2863, 2864, 2865, 2866, 2867, 2868, 2869,\n",
            "       2870, 2871, 2872, 2873, 2874, 2875, 2876, 2877, 2878, 2879, 2880,\n",
            "       2881, 2882, 2883, 2884, 2885, 2886, 2887, 2888, 2889, 2890, 2891,\n",
            "       2892, 2893, 2894, 2895, 2896, 2897, 2898, 2899, 2900, 2901, 2902,\n",
            "       2903, 2904, 2905, 2906, 2907, 2908, 2909, 2910, 2911, 2912, 2913,\n",
            "       2914, 2915, 2916, 2917, 2918, 2919, 2920, 2921, 2922, 2923, 2924,\n",
            "       2925, 2926, 2927, 2928, 2929, 2930, 2931, 2932, 2933, 2934, 2935,\n",
            "       2936, 2937, 2938, 2939, 2940, 2941, 2942, 2943, 2944, 2945, 2946,\n",
            "       2947, 2948, 2949, 2950, 2951, 2952, 2953, 2954, 2955, 2956, 2957,\n",
            "       2958, 2959, 2960, 2961, 2962, 2963, 2964, 2965, 2966, 2967, 2968,\n",
            "       2969, 2970, 2971, 2972, 2973, 2974, 2975, 2976, 2977, 2978, 2979,\n",
            "       2980, 2981, 2982, 2983, 2984, 2985, 2986, 2987, 2988, 2989, 2990,\n",
            "       2991, 2992, 2993, 2994, 2995, 2996, 2997, 2998, 2999, 3000, 3001,\n",
            "       3002, 3003, 3004, 3005, 3006, 3007, 3008, 3009, 3010, 3011, 3012,\n",
            "       3013, 3014, 3015, 3016, 3017, 3018, 3019, 3020, 3021, 3022, 3023,\n",
            "       3024, 3025, 3026, 3027, 3028, 3029, 3030, 3031, 3032, 3033, 3034,\n",
            "       3035, 3036, 3037, 3038, 3039, 3040, 3041, 3042, 3043, 3044, 3045,\n",
            "       3046, 3047, 3048, 3049, 3050, 3051, 3052, 3053, 3054, 3055, 3056,\n",
            "       3057, 3058, 3059, 3060, 3061, 3062, 3063, 3064, 3065, 3066, 3067,\n",
            "       3068, 3069, 3070, 3071, 3073, 3074, 3075]),)\n"
          ]
        }
      ]
    },
    {
      "cell_type": "code",
      "source": [
        "# plot the predicted anomalies on the original dataset\n",
        "anomaly_indices = []\n",
        "for data_idx in range(Time_steps - 1, len(normalized_test_data) - Time_steps + 1):\n",
        "  if np.all(anomalies[data_idx - Time_steps + 1 : data_idx]):\n",
        "    anomaly_indices.append(data_idx)"
      ],
      "metadata": {
        "id": "nEtEohIBeC8Z"
      },
      "execution_count": 36,
      "outputs": []
    },
    {
      "cell_type": "code",
      "source": [
        "# create the plot\n",
        "df_subset = df_jumpsup.iloc[anomaly_indices]\n",
        "fig, ax = plt.subplots()\n",
        "df_jumpsup.plot(legend=False, ax=ax)\n",
        "df_subset.plot(legend=False, ax=ax, color=\"r\")"
      ],
      "metadata": {
        "colab": {
          "base_uri": "https://localhost:8080/",
          "height": 320
        },
        "id": "o4lYUwxFgpxO",
        "outputId": "d92cd0ce-c0c5-4177-c827-45dfab4dd325"
      },
      "execution_count": 39,
      "outputs": [
        {
          "output_type": "execute_result",
          "data": {
            "text/plain": [
              "<matplotlib.axes._subplots.AxesSubplot at 0x7ff8d4620290>"
            ]
          },
          "metadata": {},
          "execution_count": 39
        },
        {
          "output_type": "display_data",
          "data": {
            "text/plain": [
              "<Figure size 432x288 with 1 Axes>"
            ],
            "image/png": "[encoded data removed]"
          },
          "metadata": {
            "needs_background": "light"
          }
        }
      ]
    }
  ]
}