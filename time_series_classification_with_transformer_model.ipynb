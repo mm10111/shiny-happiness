{
  "nbformat": 4,
  "nbformat_minor": 0,
  "metadata": {
    "colab": {
      "provenance": []
    },
    "kernelspec": {
      "name": "python3",
      "display_name": "Python 3"
    },
    "language_info": {
      "name": "python"
    }
  },
  "cells": [
    {
      "cell_type": "code",
      "execution_count": 2,
      "metadata": {
        "id": "w_8AV_eyYzDb"
      },
      "outputs": [],
      "source": [
        "#link to tutorial: https://keras.io/examples/timeseries/timeseries_classification_transformer/"
      ]
    },
    {
      "cell_type": "code",
      "source": [
        "import numpy as np "
      ],
      "metadata": {
        "id": "NL-dwogQZJqa"
      },
      "execution_count": 3,
      "outputs": []
    },
    {
      "cell_type": "code",
      "source": [
        "# creating a file read function \n",
        "def read_data_file(filename):\n",
        "  dataset = np.loadtxt(filename, delimiter=\"\\t\")\n",
        "  y = dataset[:, 0]\n",
        "  x = dataset[:, 1:]\n",
        "  return x, y.astype(int)"
      ],
      "metadata": {
        "id": "kHDS8ZHFZDYY"
      },
      "execution_count": 5,
      "outputs": []
    },
    {
      "cell_type": "code",
      "source": [
        "dataset_url = \"https://raw.githubusercontent.com/hfawaz/cd-diagram/master/FordA/\""
      ],
      "metadata": {
        "id": "s-7zWYhaZQJL"
      },
      "execution_count": 6,
      "outputs": []
    },
    {
      "cell_type": "code",
      "source": [
        "# read the dataset and split it into training data and test dataset\n",
        "x_training_set, y_training_set = read_data_file(dataset_url + \"FordA_TRAIN.tsv\")\n",
        "x_test_set, y_test_set = read_data_file(dataset_url + \"FordA_TEST.tsv\")"
      ],
      "metadata": {
        "id": "HD8EIyuXZrIc"
      },
      "execution_count": 8,
      "outputs": []
    },
    {
      "cell_type": "code",
      "source": [
        "# validating the data was read properly\n",
        "x_training_set"
      ],
      "metadata": {
        "colab": {
          "base_uri": "https://localhost:8080/"
        },
        "id": "wmCmpP97ZyLc",
        "outputId": "2d44781b-9d30-4cba-9ded-1b2b38db19ad"
      },
      "execution_count": 11,
      "outputs": [
        {
          "output_type": "execute_result",
          "data": {
            "text/plain": [
              "array([[-0.79717168, -0.66439208, -0.37301463, ..., -0.66439208,\n",
              "        -1.0737958 , -1.5643427 ],\n",
              "       [ 0.80485472,  0.63462859,  0.37347448, ..., -0.71488505,\n",
              "        -0.56044294, -0.31908642],\n",
              "       [ 0.7279851 ,  0.11128392, -0.49912439, ...,  0.39446303,\n",
              "         0.33940042,  0.25539062],\n",
              "       ...,\n",
              "       [-0.57005428, -0.33316523, -0.29351853, ..., -1.3937145 ,\n",
              "        -0.94273327, -0.27072168],\n",
              "       [ 2.0067321 ,  2.0791499 ,  2.0220362 , ..., -0.43214504,\n",
              "        -0.44123126, -0.28070891],\n",
              "       [-0.12524091, -0.32536268, -0.48823697, ...,  0.55576053,\n",
              "         0.57445102,  0.57311598]])"
            ]
          },
          "metadata": {},
          "execution_count": 11
        }
      ]
    },
    {
      "cell_type": "code",
      "source": [
        "y_training_set"
      ],
      "metadata": {
        "colab": {
          "base_uri": "https://localhost:8080/"
        },
        "id": "vUzz49VTaaGI",
        "outputId": "ef358c71-b381-4623-e1ee-c8c34bba909b"
      },
      "execution_count": 12,
      "outputs": [
        {
          "output_type": "execute_result",
          "data": {
            "text/plain": [
              "array([-1,  1, -1, ..., -1,  1, -1])"
            ]
          },
          "metadata": {},
          "execution_count": 12
        }
      ]
    },
    {
      "cell_type": "code",
      "source": [
        "x_test_set"
      ],
      "metadata": {
        "colab": {
          "base_uri": "https://localhost:8080/"
        },
        "id": "Y4rhERKTacjP",
        "outputId": "64e4cb5f-0b52-47a4-81e5-b56dc78cd378"
      },
      "execution_count": 13,
      "outputs": [
        {
          "output_type": "execute_result",
          "data": {
            "text/plain": [
              "array([[-0.14040239,  0.17164128,  0.30204415, ..., -0.69040244,\n",
              "        -0.97659635, -0.79426313],\n",
              "       [ 0.33403756,  0.32225332,  0.45384397, ..., -1.0417721 ,\n",
              "        -1.1596145 , -1.3756589 ],\n",
              "       [ 0.71668608,  0.74436655,  0.72591291, ..., -3.6752806 ,\n",
              "        -4.1366217 , -4.3396117 ],\n",
              "       ...,\n",
              "       [ 0.71008362,  0.59397882,  0.3818858 , ..., -0.12655282,\n",
              "        -0.11782239, -0.18909413],\n",
              "       [ 0.00684706, -0.14062427, -0.27059412, ..., -1.0007084 ,\n",
              "        -1.0841075 , -1.109963  ],\n",
              "       [-0.54135529, -0.24172258,  0.10074086, ..., -0.09362504,\n",
              "        -0.90080431, -1.778341  ]])"
            ]
          },
          "metadata": {},
          "execution_count": 13
        }
      ]
    },
    {
      "cell_type": "code",
      "source": [
        "y_test_set"
      ],
      "metadata": {
        "colab": {
          "base_uri": "https://localhost:8080/"
        },
        "id": "oLg-eIhYafEx",
        "outputId": "d77f8109-b518-4d65-d085-0ecd9a7f50ac"
      },
      "execution_count": 14,
      "outputs": [
        {
          "output_type": "execute_result",
          "data": {
            "text/plain": [
              "array([-1, -1, -1, ...,  1,  1,  1])"
            ]
          },
          "metadata": {},
          "execution_count": 14
        }
      ]
    },
    {
      "cell_type": "code",
      "source": [
        "# next step is to reshape the training and test set into vectors \n",
        "x_training_set = x_training_set.reshape((x_training_set.shape[0], x_training_set.shape[1], 1))\n",
        "x_test_set = x_test_set.reshape((x_test_set.shape[0], x_test_set.shape[1], 1))"
      ],
      "metadata": {
        "id": "orinoQ1wagv6"
      },
      "execution_count": 15,
      "outputs": []
    }
  ]
}